{
  "nbformat": 4,
  "nbformat_minor": 0,
  "metadata": {
    "colab": {
      "name": "Module 2.ipynb",
      "provenance": [],
      "authorship_tag": "ABX9TyMV67Ys1WeTYSnND+dX7Jii",
      "include_colab_link": true
    },
    "kernelspec": {
      "name": "python3",
      "display_name": "Python 3"
    }
  },
  "cells": [
    {
      "cell_type": "markdown",
      "metadata": {
        "id": "view-in-github",
        "colab_type": "text"
      },
      "source": [
        "<a href=\"https://colab.research.google.com/github/zaidanyahya/TensorFlowCourse/blob/master/Module_2.ipynb\" target=\"_parent\"><img src=\"https://colab.research.google.com/assets/colab-badge.svg\" alt=\"Open In Colab\"/></a>"
      ]
    },
    {
      "cell_type": "markdown",
      "metadata": {
        "id": "dMpOadt33T6C"
      },
      "source": [
        "#Importing TensorFLow"
      ]
    },
    {
      "cell_type": "code",
      "metadata": {
        "id": "P_UmVpu03J94"
      },
      "source": [
        "%tensorflow_version 2.x\n",
        "import tensorflow as tf"
      ],
      "execution_count": 4,
      "outputs": []
    },
    {
      "cell_type": "markdown",
      "metadata": {
        "id": "z19vHBmB5cfu"
      },
      "source": [
        "#Tensors"
      ]
    },
    {
      "cell_type": "markdown",
      "metadata": {
        "id": "ulEO2czT8OSA"
      },
      "source": [
        "###Creating Tensor"
      ]
    },
    {
      "cell_type": "code",
      "metadata": {
        "id": "JKzZRVDv5baE",
        "outputId": "b9a0bc93-ecab-4f83-ea91-dd09a7369445",
        "colab": {
          "base_uri": "https://localhost:8080/",
          "height": 68
        }
      },
      "source": [
        "string = tf.Variable(\"this is string\", tf.string)\n",
        "number = tf.Variable(\"123\", tf.int16)\n",
        "floating = tf.Variable(3.14, tf.float64)\n",
        "\n",
        "print(string)\n",
        "print(number)\n",
        "print(floating)"
      ],
      "execution_count": 11,
      "outputs": [
        {
          "output_type": "stream",
          "text": [
            "<tf.Variable 'Variable:0' shape=() dtype=string, numpy=b'this is string'>\n",
            "<tf.Variable 'Variable:0' shape=() dtype=string, numpy=b'123'>\n",
            "<tf.Variable 'Variable:0' shape=() dtype=float32, numpy=3.14>\n"
          ],
          "name": "stdout"
        }
      ]
    },
    {
      "cell_type": "markdown",
      "metadata": {
        "id": "pqafYaOm6ipu"
      },
      "source": [
        "###Rank/Degree of Tensor"
      ]
    },
    {
      "cell_type": "code",
      "metadata": {
        "id": "EWKYShdV6l9e",
        "outputId": "3e06f8dd-ca89-4f5b-d489-a0d728015a80",
        "colab": {
          "base_uri": "https://localhost:8080/",
          "height": 105
        }
      },
      "source": [
        "rank1_tensor = tf.Variable([\"this\", \"is\", \"zaidan\"], tf.string)\n",
        "rank2_tensor = tf.Variable([[\"this\", \"is\", \"fisrt\"],[\"this\", \"is\", \"second\"]], tf.string)\n",
        "\n",
        "print(rank1_tensor)\n",
        "print(rank2_tensor)"
      ],
      "execution_count": 23,
      "outputs": [
        {
          "output_type": "stream",
          "text": [
            "<tf.Variable 'Variable:0' shape=(3,) dtype=string, numpy=array([b'this', b'is', b'zaidan'], dtype=object)>\n",
            "<tf.Variable 'Variable:0' shape=(2, 3) dtype=string, numpy=\n",
            "array([[b'this', b'is', b'fisrt'],\n",
            "       [b'this', b'is', b'second']], dtype=object)>\n"
          ],
          "name": "stdout"
        }
      ]
    },
    {
      "cell_type": "markdown",
      "metadata": {
        "id": "Dd0GEsPT7xpZ"
      },
      "source": [
        "###Determine the rank of tensor"
      ]
    },
    {
      "cell_type": "code",
      "metadata": {
        "id": "2S-8-O9d7TF_",
        "outputId": "6d853c32-c98e-44b6-8c24-c7477b1d298f",
        "colab": {
          "base_uri": "https://localhost:8080/",
          "height": 34
        }
      },
      "source": [
        "tf.rank(rank1_tensor)"
      ],
      "execution_count": 14,
      "outputs": [
        {
          "output_type": "execute_result",
          "data": {
            "text/plain": [
              "<tf.Tensor: shape=(), dtype=int32, numpy=1>"
            ]
          },
          "metadata": {
            "tags": []
          },
          "execution_count": 14
        }
      ]
    },
    {
      "cell_type": "code",
      "metadata": {
        "id": "XJ7QzrAO7vyO",
        "outputId": "c51b3995-072a-475a-f1b9-62c36dedec41",
        "colab": {
          "base_uri": "https://localhost:8080/",
          "height": 34
        }
      },
      "source": [
        "tf.rank(rank2_tensor)"
      ],
      "execution_count": 15,
      "outputs": [
        {
          "output_type": "execute_result",
          "data": {
            "text/plain": [
              "<tf.Tensor: shape=(), dtype=int32, numpy=2>"
            ]
          },
          "metadata": {
            "tags": []
          },
          "execution_count": 15
        }
      ]
    },
    {
      "cell_type": "markdown",
      "metadata": {
        "id": "SgOfQXzx9FO5"
      },
      "source": [
        "###Shape of Tensor"
      ]
    },
    {
      "cell_type": "code",
      "metadata": {
        "id": "rAajqc8X9JCQ",
        "outputId": "6ca2cfb6-48d6-4be2-932f-c730a240c54d",
        "colab": {
          "base_uri": "https://localhost:8080/",
          "height": 34
        }
      },
      "source": [
        "rank1_tensor.shape"
      ],
      "execution_count": 24,
      "outputs": [
        {
          "output_type": "execute_result",
          "data": {
            "text/plain": [
              "TensorShape([3])"
            ]
          },
          "metadata": {
            "tags": []
          },
          "execution_count": 24
        }
      ]
    },
    {
      "cell_type": "code",
      "metadata": {
        "id": "x19D3gI38grF",
        "outputId": "56d6242a-57be-41b9-908d-8ed756aa117f",
        "colab": {
          "base_uri": "https://localhost:8080/",
          "height": 34
        }
      },
      "source": [
        "rank2_tensor.shape"
      ],
      "execution_count": 17,
      "outputs": [
        {
          "output_type": "execute_result",
          "data": {
            "text/plain": [
              "TensorShape([2, 3])"
            ]
          },
          "metadata": {
            "tags": []
          },
          "execution_count": 17
        }
      ]
    },
    {
      "cell_type": "markdown",
      "metadata": {
        "id": "oU5hiyxw9nHP"
      },
      "source": [
        "###Changing Shape"
      ]
    },
    {
      "cell_type": "code",
      "metadata": {
        "id": "M2DOjyuT9juE"
      },
      "source": [
        "tensor1 = tf.ones([2,2,4])  #Creates a tensor with all elements set to one (1).\n",
        "tensor2 = tf.reshape(tensor1, [2,4,2])  #Reshapes a tensor\n",
        "tensor3 = tf.reshape(tensor2, [4, -1])  # -1 tells the tensor to calculate the \n",
        "                                        # size of the dimansion in that place\n",
        "\n"
      ],
      "execution_count": 41,
      "outputs": []
    },
    {
      "cell_type": "code",
      "metadata": {
        "id": "91TWJaW4-gaA",
        "outputId": "9e2a0a56-bd54-4b02-8b8f-b07ac3f19269",
        "colab": {
          "base_uri": "https://localhost:8080/",
          "height": 408
        }
      },
      "source": [
        "print(tensor1)\n",
        "print(\"---------------------------------------------------\")\n",
        "print(tensor2)\n",
        "print(\"---------------------------------------------------\")\n",
        "print(tensor3)"
      ],
      "execution_count": 40,
      "outputs": [
        {
          "output_type": "stream",
          "text": [
            "tf.Tensor(\n",
            "[[[1 1 1 1]\n",
            "  [1 1 1 1]]\n",
            "\n",
            " [[1 1 1 1]\n",
            "  [1 1 1 1]]], shape=(2, 2, 4), dtype=int32)\n",
            "---------------------------------------------------\n",
            "tf.Tensor(\n",
            "[[[1 1]\n",
            "  [1 1]\n",
            "  [1 1]\n",
            "  [1 1]]\n",
            "\n",
            " [[1 1]\n",
            "  [1 1]\n",
            "  [1 1]\n",
            "  [1 1]]], shape=(2, 4, 2), dtype=int32)\n",
            "---------------------------------------------------\n",
            "tf.Tensor(\n",
            "[[1 1 1 1]\n",
            " [1 1 1 1]\n",
            " [1 1 1 1]\n",
            " [1 1 1 1]], shape=(4, 4), dtype=int32)\n"
          ],
          "name": "stdout"
        }
      ]
    }
  ]
}